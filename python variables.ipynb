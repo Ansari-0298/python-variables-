{
 "cells": [
  {
   "cell_type": "code",
   "execution_count": 1,
   "id": "8b212ec6",
   "metadata": {},
   "outputs": [],
   "source": [
    "student = \"sam\""
   ]
  },
  {
   "cell_type": "code",
   "execution_count": 2,
   "id": "f5e97388",
   "metadata": {},
   "outputs": [
    {
     "data": {
      "text/plain": [
       "'sam'"
      ]
     },
     "execution_count": 2,
     "metadata": {},
     "output_type": "execute_result"
    }
   ],
   "source": [
    "student"
   ]
  },
  {
   "cell_type": "code",
   "execution_count": 3,
   "id": "69bc05c4",
   "metadata": {},
   "outputs": [],
   "source": [
    "student =\"matt\""
   ]
  },
  {
   "cell_type": "code",
   "execution_count": 4,
   "id": "e2452ee1",
   "metadata": {},
   "outputs": [
    {
     "data": {
      "text/plain": [
       "'matt'"
      ]
     },
     "execution_count": 4,
     "metadata": {},
     "output_type": "execute_result"
    }
   ],
   "source": [
    "student"
   ]
  },
  {
   "cell_type": "code",
   "execution_count": 5,
   "id": "9ca12dda",
   "metadata": {},
   "outputs": [],
   "source": [
    "student =\"bob\""
   ]
  },
  {
   "cell_type": "code",
   "execution_count": 6,
   "id": "c1e1413e",
   "metadata": {},
   "outputs": [
    {
     "data": {
      "text/plain": [
       "'bob'"
      ]
     },
     "execution_count": 6,
     "metadata": {},
     "output_type": "execute_result"
    }
   ],
   "source": [
    "student"
   ]
  },
  {
   "cell_type": "code",
   "execution_count": null,
   "id": "54929936",
   "metadata": {},
   "outputs": [],
   "source": [
    "#vaeiables are used to store data temporerily"
   ]
  }
 ],
 "metadata": {
  "kernelspec": {
   "display_name": "Python 3",
   "language": "python",
   "name": "python3"
  },
  "language_info": {
   "codemirror_mode": {
    "name": "ipython",
    "version": 3
   },
   "file_extension": ".py",
   "mimetype": "text/x-python",
   "name": "python",
   "nbconvert_exporter": "python",
   "pygments_lexer": "ipython3",
   "version": "3.8.8"
  }
 },
 "nbformat": 4,
 "nbformat_minor": 5
}
